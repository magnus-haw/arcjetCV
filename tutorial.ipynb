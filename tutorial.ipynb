{
 "cells": [
  {
   "cell_type": "markdown",
   "metadata": {},
   "source": [
    "# arcjetCV Tutorial"
   ]
  },
  {
   "cell_type": "code",
   "execution_count": null,
   "metadata": {},
   "outputs": [],
   "source": [
    "!pip install git+https://github.com/magnus-haw/arcjetCV.git@develop -q\n",
    "!pip install segmentation-models-pytorch -q\n",
    "!pip install imageio[pyav] -q  # to load m4v\n",
    "!wget https://github.com/magnus-haw/arcjetCV/raw/main/tests/arcjet_test.mp4 -q  # example video"
   ]
  },
  {
   "cell_type": "code",
   "execution_count": null,
   "metadata": {},
   "outputs": [],
   "source": [
    "# functions to convert and display videos\n",
    "from moviepy.editor import ipython_display as display_video\n",
    "import imageio\n",
    "def convert_and_crop_video(video_path, output_path, fps=30, max_frames=None):\n",
    "  frames = imageio.mimread(video_path, memtest=False)\n",
    "  if max_frames is None: \n",
    "    n_frames = len(frames)\n",
    "  else:\n",
    "    n_frames = min(max_frames, len(frames))\n",
    "  writer = imageio.get_writer(output_path, fps=fps)\n",
    "  for i in range(n_frames):\n",
    "    writer.append_data(frames[i])\n",
    "  writer.close()"
   ]
  },
  {
   "cell_type": "code",
   "execution_count": null,
   "metadata": {},
   "outputs": [],
   "source": [
    "# crop example video and display it\n",
    "convert_and_crop_video(\"arcjet_test.mp4\", \"arcjet_test.mp4\", max_frames=300)\n",
    "display_video(\"arcjet_test.mp4\")"
   ]
  },
  {
   "cell_type": "code",
   "execution_count": null,
   "metadata": {},
   "outputs": [],
   "source": [
    "import arcjetCV as arcv\n",
    "\n",
    "video = arcv.Video(\"arcjet_test.mp4\")\n",
    "\n",
    "videometa = arcv.VideoMeta(video, \"arcjet_test.meta\")\n",
    "videometa[\"FLOW_DIRECTION\"] = \"right\"\n",
    "videometa.set_frame_crop(30, 670, 120, 680)\n",
    "videometa[\"FIRST_GOOD_FRAME\"] = 0\n",
    "videometa[\"LAST_GOOD_FRAME\"] = 600\n",
    "\n",
    "processor = arcv.ArcjetProcessor(videometa)\n",
    "output = processor.process_all(\n",
    "    video, \n",
    "    options={\"SEGMENT_METHOD\": \"CNN\"}, \n",
    "    first_frame=videometa[\"FIRST_GOOD_FRAME\"], \n",
    "    last_frame=videometa[\"LAST_GOOD_FRAME\"], \n",
    "    frame_stride = 5,\n",
    "    write_json = True,\n",
    "    write_video = True\n",
    ")"
   ]
  },
  {
   "cell_type": "code",
   "execution_count": null,
   "metadata": {},
   "outputs": [],
   "source": [
    "# convert annotated video from m4v to mp4 and display it\n",
    "convert_and_crop_video(\"video_out_arcjet_test.m4v\", \"video_out_arcjet_test.mp4\")\n",
    "display_video('video_out_arcjet_test.mp4')"
   ]
  }
 ],
 "metadata": {
  "language_info": {
   "name": "python"
  }
 },
 "nbformat": 4,
 "nbformat_minor": 2
}
