{
 "cells": [
  {
   "cell_type": "markdown",
   "metadata": {
    "id": "jWLZa2NcV1fa"
   },
   "source": [
    "# arcjetCV Tutorial"
   ]
  },
  {
   "cell_type": "code",
   "execution_count": null,
   "metadata": {
    "colab": {
     "base_uri": "https://localhost:8080/"
    },
    "id": "su6ZgnRMV1fd",
    "outputId": "9a4c5c2f-9d5c-4dde-fe61-bb170302d4eb"
   },
   "outputs": [],
   "source": [
    "!pip install git+https://github.com/magnus-haw/arcjetCV.git@develop -q\n",
    "!pip install segmentation-models-pytorch -q\n",
    "!pip install imageio[pyav] -q  # to load m4v\n",
    "!wget https://github.com/magnus-haw/arcjetCV/raw/develop/tests/arcjet_test.mp4 -q  # example video"
   ]
  },
  {
   "cell_type": "code",
   "execution_count": 2,
   "metadata": {
    "id": "FEoaneAFV1fe"
   },
   "outputs": [],
   "source": [
    "# functions to convert and display videos\n",
    "from moviepy.editor import ipython_display as display_video\n",
    "import imageio\n",
    "def convert_and_crop_video(video_path, output_path, fps=30, max_frames=None):\n",
    "  frames = imageio.mimread(video_path, memtest=False)\n",
    "  if max_frames is None:\n",
    "    n_frames = len(frames)\n",
    "  else:\n",
    "    n_frames = min(max_frames, len(frames))\n",
    "  writer = imageio.get_writer(output_path, fps=fps)\n",
    "  for i in range(n_frames):\n",
    "    writer.append_data(frames[i])\n",
    "  writer.close()"
   ]
  },
  {
   "cell_type": "code",
   "execution_count": null,
   "metadata": {
    "colab": {
     "base_uri": "https://localhost:8080/",
     "height": 779
    },
    "id": "XjpxFVexV1fe",
    "outputId": "1b55f3d0-2953-4ed2-86d9-8fed8ea060ff"
   },
   "outputs": [],
   "source": [
    "# crop example video and display it\n",
    "convert_and_crop_video(\"arcjet_test.mp4\", \"arcjet_test_crop.mp4\", max_frames=600)\n",
    "display_video(\"arcjet_test_crop.mp4\")"
   ]
  },
  {
   "cell_type": "code",
   "execution_count": null,
   "metadata": {
    "colab": {
     "base_uri": "https://localhost:8080/"
    },
    "id": "Ywg0g9myV1fe",
    "outputId": "7c54132e-4615-4209-f9f0-a5016eb4b0f6"
   },
   "outputs": [],
   "source": [
    "import arcjetCV as arcv\n",
    "\n",
    "video = arcv.Video(\"arcjet_test.mp4\")\n",
    "\n",
    "videometa = arcv.VideoMeta(video, \"arcjet_test.meta\")\n",
    "videometa[\"FLOW_DIRECTION\"] = \"right\"\n",
    "videometa.set_frame_crop(10, 700, 100, 425)\n",
    "videometa[\"FIRST_GOOD_FRAME\"] = 100\n",
    "videometa[\"LAST_GOOD_FRAME\"] = 400\n",
    "\n",
    "processor = arcv.ArcjetProcessor(videometa)\n",
    "output = processor.process_all(\n",
    "    video,\n",
    "    options={\"SEGMENT_METHOD\": \"CNN\"},\n",
    "    first_frame=videometa[\"FIRST_GOOD_FRAME\"],\n",
    "    last_frame=videometa[\"LAST_GOOD_FRAME\"],\n",
    "    frame_stride = 5,\n",
    "    output_prefix=\"arcjet_test\",\n",
    "    write_json = True,\n",
    "    write_video = True\n",
    ")"
   ]
  },
  {
   "cell_type": "code",
   "execution_count": null,
   "metadata": {
    "colab": {
     "base_uri": "https://localhost:8080/",
     "height": 831
    },
    "id": "1S82IKEhV1ff",
    "outputId": "edcc1295-a3b0-4f35-ecb0-ccc314f700db"
   },
   "outputs": [],
   "source": [
    "# convert annotated video from m4v to mp4 and display it\n",
    "convert_and_crop_video(\"video_out_arcjet_test_100_400.m4v\", \"video_out_arcjet_test.mp4\")\n",
    "display_video('video_out_arcjet_test.mp4')"
   ]
  }
 ],
 "metadata": {
  "colab": {
   "provenance": []
  },
  "kernelspec": {
   "display_name": "Python 3",
   "name": "python3"
  },
  "language_info": {
   "name": "python",
   "version": "3.12.2"
  }
 },
 "nbformat": 4,
 "nbformat_minor": 0
}
